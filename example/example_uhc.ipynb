{
 "cells": [
  {
   "cell_type": "code",
   "execution_count": null,
   "metadata": {},
   "outputs": [],
   "source": [
    "import numpy as np\n",
    "import pandas as pd\n",
    "import matplotlib.pyplot as plt\n",
    "import sys\n",
    "sys.path.append('../src/')\n",
    "from msfa import MSFA\n",
    "from msfa_optimization import optimizeSFA"
   ]
  },
  {
   "cell_type": "markdown",
   "metadata": {},
   "source": [
    "## Import data"
   ]
  },
  {
   "cell_type": "code",
   "execution_count": null,
   "metadata": {},
   "outputs": [],
   "source": [
    "df = pd.read_csv('../data/msfa_data.csv')"
   ]
  },
  {
   "cell_type": "markdown",
   "metadata": {},
   "source": [
    "## Create object"
   ]
  },
  {
   "cell_type": "code",
   "execution_count": null,
   "metadata": {},
   "outputs": [],
   "source": [
    "m = df.shape[0]\n",
    "s = np.sqrt(df['uhc_variance'].values)\n",
    "#\n",
    "x = df['physicians'].values\n",
    "z = np.ones((m,1))\n",
    "d = np.ones((m,1))\n",
    "y = df['uhc'].values\n",
    "#\n",
    "ind = np.argsort(x)\n",
    "x = x[ind]\n",
    "y = y[ind]\n",
    "#\n",
    "msfa = MSFA(x.reshape(m,1), z, d, s, Y=y, vtype='half_normal', ftype='lower', add_intercept_to_x=True)"
   ]
  },
  {
   "cell_type": "code",
   "execution_count": null,
   "metadata": {},
   "outputs": [],
   "source": [
    "plt.plot(x, y, '.')"
   ]
  },
  {
   "cell_type": "code",
   "execution_count": null,
   "metadata": {},
   "outputs": [],
   "source": [
    "# add splines\n",
    "knots = np.array([np.min(x), 20.0, 40.0, 60.0, np.max(x)])\n",
    "degree = 3\n",
    "msfa.addBSpline(knots, degree, r_linear=True, bspline_mono='increasing', bspline_cvcv='concave')"
   ]
  },
  {
   "cell_type": "markdown",
   "metadata": {},
   "source": [
    "## Fit data"
   ]
  },
  {
   "cell_type": "code",
   "execution_count": null,
   "metadata": {},
   "outputs": [],
   "source": [
    "msfa.gama_uprior = np.zeros((2, msfa.k_gama))\n",
    "msfa.updateUPrior()\n",
    "optimizeSFA(msfa)"
   ]
  },
  {
   "cell_type": "code",
   "execution_count": null,
   "metadata": {},
   "outputs": [],
   "source": [
    "plt.plot(x, y, '.')\n",
    "plt.plot(x, msfa.X.dot(msfa.beta_soln))"
   ]
  },
  {
   "cell_type": "markdown",
   "metadata": {},
   "source": [
    "## Trimming SFA"
   ]
  },
  {
   "cell_type": "code",
   "execution_count": null,
   "metadata": {},
   "outputs": [],
   "source": [
    "sfa.optimizeSFAWithTrimming(int(0.9*sfa.N), stepsize=100.0, verbose=True, max_iter=20)"
   ]
  },
  {
   "cell_type": "code",
   "execution_count": null,
   "metadata": {},
   "outputs": [],
   "source": [
    "id_outliers = np.where(sfa.w == 0.0)[0]\n",
    "plt.plot(x, y, '.')\n",
    "plt.plot(x, sfa.X.dot(sfa.beta_soln))\n",
    "plt.plot(x[id_outliers], y[id_outliers], 'r.')"
   ]
  },
  {
   "cell_type": "code",
   "execution_count": null,
   "metadata": {},
   "outputs": [],
   "source": [
    "np.sqrt(sfa.deta_soln)"
   ]
  },
  {
   "cell_type": "code",
   "execution_count": null,
   "metadata": {},
   "outputs": [],
   "source": []
  }
 ],
 "metadata": {
  "kernelspec": {
   "display_name": "Python 3",
   "language": "python",
   "name": "python3"
  },
  "language_info": {
   "codemirror_mode": {
    "name": "ipython",
    "version": 3
   },
   "file_extension": ".py",
   "mimetype": "text/x-python",
   "name": "python",
   "nbconvert_exporter": "python",
   "pygments_lexer": "ipython3",
   "version": "3.6.6"
  }
 },
 "nbformat": 4,
 "nbformat_minor": 2
}
