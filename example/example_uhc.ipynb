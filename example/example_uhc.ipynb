{
 "cells": [
  {
   "cell_type": "code",
   "execution_count": null,
   "metadata": {},
   "outputs": [],
   "source": [
    "import numpy as np\n",
    "import pandas as pd\n",
    "import matplotlib.pyplot as plt\n",
    "from pysfa import SFA"
   ]
  },
  {
   "cell_type": "markdown",
   "metadata": {},
   "source": [
    "## Import data"
   ]
  },
  {
   "cell_type": "code",
   "execution_count": null,
   "metadata": {},
   "outputs": [],
   "source": [
    "df = pd.read_csv('../data/msfa_data.csv')"
   ]
  },
  {
   "cell_type": "markdown",
   "metadata": {},
   "source": [
    "## Create object\n",
    "\n",
    "Our model can be written as,\n",
    "$$\n",
    "y_i = X_i \\beta + u_i - v_i + \\epsilon_i.\n",
    "$$\n",
    "\n",
    "where $u_i \\sim N(0, \\gamma)$ and $v_i \\sim HN(0, \\delta)$."
   ]
  },
  {
   "cell_type": "code",
   "execution_count": null,
   "metadata": {},
   "outputs": [],
   "source": [
    "m = df.shape[0]\n",
    "s = np.sqrt(df['uhc_variance'].values)\n",
    "#\n",
    "x = df['physicians'].values\n",
    "z = np.ones((m,1))\n",
    "d = np.ones((m,1))\n",
    "y = df['uhc'].values\n",
    "#\n",
    "ind = np.argsort(x)\n",
    "x = x[ind]\n",
    "y = y[ind]\n",
    "#\n",
    "sfa = SFA(x.reshape(m,1), z, d, s, Y=y, add_intercept_to_x=True)"
   ]
  },
  {
   "cell_type": "code",
   "execution_count": null,
   "metadata": {},
   "outputs": [],
   "source": [
    "plt.plot(x, sfa.Y, '.')"
   ]
  },
  {
   "cell_type": "markdown",
   "metadata": {},
   "source": [
    "## Add BSpline\n",
    "\n",
    "Need to specify\n",
    "* `knots`\n",
    "* `degree`\n",
    "* `l_linear`(linear head) and `r_linear` (linear tail)\n",
    "* `bspline_mono`: curve increasing or decreasing\n",
    "* `bspline_cvcv`: curve convex or concave"
   ]
  },
  {
   "cell_type": "code",
   "execution_count": null,
   "metadata": {},
   "outputs": [],
   "source": [
    "# add splines\n",
    "knots = np.array([np.min(x), 20.0, 40.0, np.max(x)])\n",
    "degree = 3\n",
    "sfa.addBSpline(knots, degree, r_linear=True, bspline_mono='increasing', bspline_cvcv='concave')"
   ]
  },
  {
   "cell_type": "markdown",
   "metadata": {},
   "source": [
    "## Add Constraints for the Variables\n",
    "\n",
    "* constrain `beta` be between 0 and 1, so that the curve will be between 0 and 1\n",
    "* constrain `gama` to be 0, so that $u_i$ in the equation will be 0\n",
    "* constrain `deta` be be positive since it represent vairance of $v_i$"
   ]
  },
  {
   "cell_type": "code",
   "execution_count": null,
   "metadata": {},
   "outputs": [],
   "source": [
    "beta_uprior = np.array([[0.0]*sfa.k_beta, [1.0]*sfa.k_beta])\n",
    "gama_uprior = np.array([[0.0]*sfa.k_gama, [0.0]*sfa.k_gama])\n",
    "deta_uprior = np.array([[0.0]*sfa.k_deta, [np.inf]*sfa.k_deta])\n",
    "\n",
    "sfa.addUPrior(beta_uprior, gama_uprior, deta_uprior)"
   ]
  },
  {
   "cell_type": "markdown",
   "metadata": {},
   "source": [
    "## Fit data"
   ]
  },
  {
   "cell_type": "code",
   "execution_count": null,
   "metadata": {},
   "outputs": [],
   "source": [
    "sfa.optimizeSFA()"
   ]
  },
  {
   "cell_type": "code",
   "execution_count": null,
   "metadata": {},
   "outputs": [],
   "source": [
    "plt.plot(x, sfa.Y, '.')\n",
    "plt.plot(x, sfa.X.dot(sfa.beta_soln))"
   ]
  },
  {
   "cell_type": "markdown",
   "metadata": {},
   "source": [
    "## Estimate Random Effect"
   ]
  },
  {
   "cell_type": "code",
   "execution_count": null,
   "metadata": {},
   "outputs": [],
   "source": [
    "# call estimateRE function\n",
    "sfa.estimateRE()"
   ]
  },
  {
   "cell_type": "code",
   "execution_count": null,
   "metadata": {},
   "outputs": [],
   "source": [
    "plt.plot(sfa.v_soln, '.')\n",
    "plt.plot(sfa.u_soln, '.')"
   ]
  },
  {
   "cell_type": "markdown",
   "metadata": {},
   "source": [
    "## Forcast Data Point\n",
    "\n",
    "Extrapolate the data using `forcastData` function. Need to provide\n",
    "* new `X`\n",
    "* predicted `v` corresponding to the new `X`"
   ]
  },
  {
   "cell_type": "code",
   "execution_count": null,
   "metadata": {},
   "outputs": [],
   "source": [
    "x_new = x.copy()\n",
    "X_new = x_new.reshape(x.size, 1)\n",
    "# pretend the predict v value to be 0.1\n",
    "v_new = sfa.v_soln.copy()"
   ]
  },
  {
   "cell_type": "code",
   "execution_count": null,
   "metadata": {},
   "outputs": [],
   "source": [
    "# call forcastData function\n",
    "y_new = sfa.forcastData(X_new, v_new, add_intercept_to_x=True)"
   ]
  },
  {
   "cell_type": "code",
   "execution_count": null,
   "metadata": {},
   "outputs": [],
   "source": [
    "plt.plot(x, sfa.Y, '.')\n",
    "plt.plot(x, sfa.X.dot(sfa.beta_soln))\n",
    "plt.plot(x_new, y_new, '.r')"
   ]
  },
  {
   "cell_type": "markdown",
   "metadata": {},
   "source": [
    "## Trimming SFA"
   ]
  },
  {
   "cell_type": "code",
   "execution_count": null,
   "metadata": {},
   "outputs": [],
   "source": [
    "sfa.optimizeSFAWithTrimming(int(0.9*sfa.N), stepsize=100.0, verbose=True, max_iter=20)"
   ]
  },
  {
   "cell_type": "code",
   "execution_count": null,
   "metadata": {},
   "outputs": [],
   "source": [
    "id_outliers = np.where(sfa.w == 0.0)[0]\n",
    "plt.plot(x, y, '.')\n",
    "plt.plot(x, sfa.X.dot(sfa.beta_soln))\n",
    "plt.plot(x[id_outliers], y[id_outliers], 'r.')"
   ]
  },
  {
   "cell_type": "code",
   "execution_count": null,
   "metadata": {},
   "outputs": [],
   "source": [
    "np.sqrt(sfa.deta_soln)"
   ]
  },
  {
   "cell_type": "markdown",
   "metadata": {},
   "source": [
    "## Post Analysis"
   ]
  },
  {
   "cell_type": "code",
   "execution_count": null,
   "metadata": {},
   "outputs": [],
   "source": [
    "beta_sample, re_sample, y_sample, y_mean, y_negp, y_intv = predictData(sfa, include_random_effect=True, sample_size=100)"
   ]
  },
  {
   "cell_type": "code",
   "execution_count": null,
   "metadata": {},
   "outputs": [],
   "source": [
    "plt.plot(x, y_mean)\n",
    "plt.fill_between(x, y_intv[:,0], y_intv[:,1], color='gray', alpha=0.5)"
   ]
  },
  {
   "cell_type": "code",
   "execution_count": null,
   "metadata": {},
   "outputs": [],
   "source": [
    "sfa.X.shape"
   ]
  },
  {
   "cell_type": "code",
   "execution_count": null,
   "metadata": {},
   "outputs": [],
   "source": [
    "sfa.beta_soln.shape"
   ]
  },
  {
   "cell_type": "code",
   "execution_count": null,
   "metadata": {},
   "outputs": [],
   "source": []
  }
 ],
 "metadata": {
  "kernelspec": {
   "display_name": "Python 3",
   "language": "python",
   "name": "python3"
  },
  "language_info": {
   "codemirror_mode": {
    "name": "ipython",
    "version": 3
   },
   "file_extension": ".py",
   "mimetype": "text/x-python",
   "name": "python",
   "nbconvert_exporter": "python",
   "pygments_lexer": "ipython3",
   "version": "3.8.8"
  }
 },
 "nbformat": 4,
 "nbformat_minor": 2
}
